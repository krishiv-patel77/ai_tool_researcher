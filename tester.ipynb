{
 "cells": [
  {
   "cell_type": "code",
   "execution_count": 5,
   "id": "c5aff5fe-a906-46c1-a7d1-b54b14dd195d",
   "metadata": {},
   "outputs": [],
   "source": [
    "import os\n",
    "from firecrawl import FirecrawlApp, ScrapeOptions\n",
    "from dotenv import load_dotenv\n",
    "\n",
    "load_dotenv()\n",
    "\n",
    "\"\"\"\n",
    "This file is just to initialize our FireCrawl App service and provide some helper functions for it to access the services of \n",
    "firecrawl with. Now within this workflow, we can replace this file with any other external service or something else that we are \n",
    "using instead. \n",
    "\n",
    "The steps would be the same. We connect to the service within this file and produce helper functions within a class so that\n",
    "we can assess the service and the functions within another class in another file.\n",
    "\"\"\"\n",
    "\n",
    "class FirecrawlService:\n",
    "\n",
    "    # Initialize the service and connect to the Firecrawl app\n",
    "    def __init__(self):\n",
    "\n",
    "        firecrawl_api_key = os.getenv(\"FIRECRAWL_API_KEY\")\n",
    "\n",
    "        if not firecrawl_api_key:\n",
    "            raise ValueError(\"Missing API Key for FireCrawl\")\n",
    "        \n",
    "        self.app = FirecrawlApp(api_key=firecrawl_api_key)\n",
    "\n",
    "\n",
    "    # Tool: Search information about the company and its pricing given a query with the company name. Limit results to specified int\n",
    "    def search_companies(self, query: str, num_results: int = 3):\n",
    "        \n",
    "        try:\n",
    "            result = self.app.search(\n",
    "                query=f\"{query} company pricing\",    # Assume that user only gives the name of the company so we want our search to be better so we add company pricing to query\n",
    "                limit=num_results,      # Limit number of results to specified value\n",
    "                scrape_options=ScrapeOptions(\n",
    "                    formats=[\"markdown\"]        # Good for processing with llms\n",
    "                )\n",
    "            )\n",
    "\n",
    "            return result\n",
    "        \n",
    "        except Exception as e:\n",
    "            print(f\"Exception occured when searching for company: {e}\")\n",
    "            return []\n",
    "        \n",
    "    # Tool: Scrape company pages: given a url it will scrape the information off of this page\n",
    "    def scrape_company_pages(self, url: str):\n",
    "        try:\n",
    "            result = self.app.scrape_url(\n",
    "                url,\n",
    "                formats=[\"markdown\"]\n",
    "            )\n",
    "            return result\n",
    "        except Exception as e:\n",
    "            print(e)\n",
    "            return None"
   ]
  },
  {
   "cell_type": "code",
   "execution_count": 6,
   "id": "b5a42cd4-c84b-4b26-95fd-7b0e4feac594",
   "metadata": {},
   "outputs": [],
   "source": [
    "service = FirecrawlService()"
   ]
  },
  {
   "cell_type": "code",
   "execution_count": null,
   "id": "48129214-dc8b-462b-af46-fb317e8bd173",
   "metadata": {},
   "outputs": [],
   "source": []
  }
 ],
 "metadata": {
  "kernelspec": {
   "display_name": "Python 3 (ipykernel)",
   "language": "python",
   "name": "python3"
  },
  "language_info": {
   "codemirror_mode": {
    "name": "ipython",
    "version": 3
   },
   "file_extension": ".py",
   "mimetype": "text/x-python",
   "name": "python",
   "nbconvert_exporter": "python",
   "pygments_lexer": "ipython3",
   "version": "3.13.5"
  }
 },
 "nbformat": 4,
 "nbformat_minor": 5
}
